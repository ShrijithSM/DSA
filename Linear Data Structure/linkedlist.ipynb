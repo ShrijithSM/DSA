{
 "cells": [
  {
   "cell_type": "code",
   "execution_count": 1,
   "metadata": {},
   "outputs": [
    {
     "name": "stdout",
     "output_type": "stream",
     "text": [
      "The value at head is 1\n"
     ]
    }
   ],
   "source": [
    "class Node:\n",
    "    def __init__(self, value):\n",
    "        self.value = value\n",
    "        self.next = None\n",
    "# Creating head of the Linked list\n",
    "head = Node(1)\n",
    "print(\"The value at head is\", head.value)"
   ]
  },
  {
   "cell_type": "markdown",
   "metadata": {},
   "source": [
    "Insertion in LinkedList"
   ]
  },
  {
   "cell_type": "code",
   "execution_count": 2,
   "metadata": {},
   "outputs": [
    {
     "name": "stdout",
     "output_type": "stream",
     "text": [
      "Inserting 3\n",
      "The value at the head is: 3\n",
      "Inserting 2\n",
      "The value at the head is: 2\n"
     ]
    }
   ],
   "source": [
    "class Node:\n",
    "    def __init__(self, value):\n",
    "        self.value = value\n",
    "        self.next = None\n",
    "\n",
    "class LinkedList:\n",
    "    def __init__(self):\n",
    "        self.head = None\n",
    "        \n",
    "    def insert_front(self, value):\n",
    "        print(\"Inserting\", value)\n",
    "        \n",
    "        # Step 1: Create a new Node\n",
    "        new_node = Node(value)\n",
    "        \n",
    "        # Step 2: Set next of new_node to the current head\n",
    "        new_node.next = self.head\n",
    "        \n",
    "        # Step 3: Set new_node as the head\n",
    "        self.head = new_node\n",
    "        \n",
    "    def get_head_value(self):\n",
    "        if self.head is None:\n",
    "            return -1\n",
    "        else:\n",
    "            return self.head.value\n",
    "\n",
    "# Create an instance of LinkedList\n",
    "list = LinkedList()\n",
    "list.insert_front(3)\n",
    "print(\"The value at the head is:\", list.get_head_value())\n",
    "\n",
    "list.insert_front(2)\n",
    "print(\"The value at the head is:\", list.get_head_value())\n"
   ]
  }
 ],
 "metadata": {
  "kernelspec": {
   "display_name": "Python 3",
   "language": "python",
   "name": "python3"
  },
  "language_info": {
   "codemirror_mode": {
    "name": "ipython",
    "version": 3
   },
   "file_extension": ".py",
   "mimetype": "text/x-python",
   "name": "python",
   "nbconvert_exporter": "python",
   "pygments_lexer": "ipython3",
   "version": "3.12.7"
  }
 },
 "nbformat": 4,
 "nbformat_minor": 2
}
